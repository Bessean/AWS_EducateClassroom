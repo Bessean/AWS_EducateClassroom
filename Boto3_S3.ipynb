{
  "nbformat": 4,
  "nbformat_minor": 0,
  "metadata": {
    "colab": {
      "name": "Boto3//S3.ipynb",
      "provenance": []
    },
    "kernelspec": {
      "name": "python3",
      "display_name": "Python 3"
    },
    "language_info": {
      "name": "python"
    }
  },
  "cells": [
    {
      "cell_type": "code",
      "metadata": {
        "id": "ZUjLgz8PaLiR"
      },
      "source": [
        "%%sh\n",
        "pip install boto3"
      ],
      "execution_count": null,
      "outputs": []
    },
    {
      "cell_type": "code",
      "metadata": {
        "id": "6jijQq2AaNKJ"
      },
      "source": [
        "#Criando uma conexão com o serviço AWS\n",
        "import boto3, pandas as pd\n",
        "aws_access_key_id=\"xxxxxxxxxx\"\n",
        "aws_secret_access_key=\"xxxxxxx\"\n",
        "aws_session_token=\"xxxxxxxxxxxxxxxxx\""
      ],
      "execution_count": null,
      "outputs": []
    },
    {
      "cell_type": "code",
      "metadata": {
        "id": "p14Fp3DXaY40"
      },
      "source": [
        "servico = 's3'\n",
        "client = boto3.client(servico,\n",
        "                      aws_access_key_id =aws_access_key_id,\n",
        "                      aws_secret_access_key=aws_secret_access_key,\n",
        "                      aws_session_token=aws_session_token\n",
        "                      )\n",
        "client.list_buckets()"
      ],
      "execution_count": null,
      "outputs": []
    },
    {
      "cell_type": "code",
      "metadata": {
        "id": "HZXgBazean4v"
      },
      "source": [
        "#Criando um client (cliente) e um resource (recurso).\n",
        "#Client - boto3.client(recurso do AWS, Autenticação)\n",
        "client_s3 = boto3.client('s3', aws_access_key_id=aws_access_key_id,\n",
        "                      aws_secret_access_key=aws_secret_access_key,\n",
        "                      aws_session_token=aws_session_token, use_ssl=False)\n",
        "\n",
        "#Resource boto3.resource(recurso do AWS, Autenticação)\n",
        "resource_s3 = boto3.resource('s3', aws_access_key_id=aws_access_key_id,\n",
        "                      aws_secret_access_key=aws_secret_access_key,\n",
        "                      aws_session_token=aws_session_token, use_ssl=False)"
      ],
      "execution_count": null,
      "outputs": []
    },
    {
      "cell_type": "code",
      "metadata": {
        "id": "fymmFD1UayKQ"
      },
      "source": [
        "#Criando um bucket\n",
        "client_s3.create_bucket(Bucket=\"xxxxxxxxxxx\")"
      ],
      "execution_count": null,
      "outputs": []
    },
    {
      "cell_type": "code",
      "metadata": {
        "id": "O8oCTqvka03i"
      },
      "source": [
        "#Utilizando resource, vamos \"trazer\" o novo bucket para o nosso ambiente de desenvolvimento\n",
        "bucket = resource_s3.Bucket('xxxxxxxxxxx')"
      ],
      "execution_count": null,
      "outputs": []
    },
    {
      "cell_type": "code",
      "metadata": {
        "id": "IQNdVcxra8sd"
      },
      "source": [
        "#Upload to s3\n",
        "bucket.upload_file(Filename='xxxxx.csv',Key=\"xxxxxx/xxxxx.csv\")"
      ],
      "execution_count": null,
      "outputs": []
    },
    {
      "cell_type": "code",
      "metadata": {
        "id": "bjBVbiuxbDTq"
      },
      "source": [
        "#Download para minha maquina \n",
        "bucket.download_file(Key = 'xxxxxxxxx.csv',Filename=\"xxxxxxxxxxxxxxx/xxxxxxx.csv\")"
      ],
      "execution_count": null,
      "outputs": []
    }
  ]
}